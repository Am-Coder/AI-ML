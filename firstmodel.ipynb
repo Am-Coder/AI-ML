{
 "cells": [
  {
   "cell_type": "code",
   "execution_count": 2,
   "metadata": {},
   "outputs": [
    {
     "name": "stdout",
     "output_type": "stream",
     "text": [
      "Epoch 1/5\n",
      "60000/60000 [==============================] - 36s 595us/step - loss: 12.3382 - acc: 0.2342\n",
      "Epoch 2/5\n",
      "60000/60000 [==============================] - 29s 489us/step - loss: 12.1494 - acc: 0.2461s - loss: 12.1501 - acc: 0.\n",
      "Epoch 3/5\n",
      "60000/60000 [==============================] - 29s 491us/step - loss: 11.3700 - acc: 0.2944\n",
      "Epoch 4/5\n",
      "60000/60000 [==============================] - 29s 489us/step - loss: 10.8243 - acc: 0.3283\n",
      "Epoch 5/5\n",
      "60000/60000 [==============================] - 29s 488us/step - loss: 10.7027 - acc: 0.3358s\n",
      "10000/10000 [==============================] - 1s 141us/step\n"
     ]
    },
    {
     "data": {
      "text/plain": [
       "[10.9244446975708, 0.322]"
      ]
     },
     "execution_count": 2,
     "metadata": {},
     "output_type": "execute_result"
    }
   ],
   "source": [
    "import tensorflow as tf\n",
    "# import numpy as np\n",
    "# import pandas as pd\n",
    "# import utils\n",
    "\n",
    "# df = pd.read_csv('E:/drishti nn/advertising.csv')\n",
    "mnist = tf.keras.datasets.mnist\n",
    "\n",
    "(xtrain,ytrain),(xtest,ytest) =mnist.load_data()\n",
    "\n",
    "model = tf.keras.models.Sequential([\n",
    "    tf.keras.layers.Flatten(),\n",
    "    tf.keras.layers.Dense(512,activation=tf.nn.relu),\n",
    "    tf.keras.layers.Dropout(0.2),\n",
    "    tf.keras.layers.Dense(10, activation=tf.nn.softmax)]\n",
    "    )\n",
    "model.compile(optimizer='adam',\n",
    "             loss='sparse_categorical_crossentropy',\n",
    "             metrics=['accuracy'])\n",
    "\n",
    "model.fit(xtrain,ytrain,epochs=5)\n",
    "model.evaluate(xtest,ytest)\n"
   ]
  },
  {
   "cell_type": "code",
   "execution_count": null,
   "metadata": {},
   "outputs": [],
   "source": []
  }
 ],
 "metadata": {
  "kernelspec": {
   "display_name": "Python 3",
   "language": "python",
   "name": "python3"
  },
  "language_info": {
   "codemirror_mode": {
    "name": "ipython",
    "version": 3
   },
   "file_extension": ".py",
   "mimetype": "text/x-python",
   "name": "python",
   "nbconvert_exporter": "python",
   "pygments_lexer": "ipython3",
   "version": "3.6.5"
  }
 },
 "nbformat": 4,
 "nbformat_minor": 2
}
